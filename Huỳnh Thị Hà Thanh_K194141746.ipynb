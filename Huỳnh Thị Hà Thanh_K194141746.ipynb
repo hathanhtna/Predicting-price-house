{
  "nbformat": 4,
  "nbformat_minor": 0,
  "metadata": {
    "colab": {
      "name": "Huỳnh Thị Hà Thanh - K194141746",
      "provenance": [],
      "collapsed_sections": []
    },
    "kernelspec": {
      "name": "python3",
      "display_name": "Python 3"
    },
    "language_info": {
      "name": "python"
    }
  },
  "cells": [
    {
      "cell_type": "markdown",
      "source": [
        "Subjects for this study: Buyer/Seller house.\n",
        "\n",
        "Cons: With the data taken from the ChoTot site, their accuracy has not been verified. The data has a lot of NaN and there is a lot of noise/outlier, leading to difficult prediction and large error. Besides, the analysis of factors affecting house prices makes it difficult for the author.\n",
        "\n",
        "Pros: The data is easy to understand, there are many references. Research objectives are close to the major you are studying."
      ],
      "metadata": {
        "id": "rAVufaOrewZS"
      }
    },
    {
      "cell_type": "markdown",
      "source": [
        "I. IMPORT DATA"
      ],
      "metadata": {
        "id": "QhX5BNkvTi-E"
      }
    },
    {
      "cell_type": "code",
      "source": [
        "# import library\n",
        "import warnings\n",
        "warnings.filterwarnings('ignore')\n",
        "import pandas as pd\n",
        "import matplotlib.pyplot as plt\n",
        "import seaborn as sns\n",
        "import statsmodels.api as sm\n",
        "import numpy as np\n",
        "from scipy import stats\n",
        "sns.set()"
      ],
      "metadata": {
        "id": "wDzWvafnieeJ"
      },
      "execution_count": 1,
      "outputs": []
    },
    {
      "cell_type": "code",
      "source": [
        "# read data\n",
        "df= pd.read_csv(\"https://raw.githubusercontent.com/hathanhtna/predict/main/rawdata.csv?token=GHSAT0AAAAAABVVOTRB43R4UAQLVU47XDI4YVUNCAA\",thousands=',',skipinitialspace=True)\n",
        "df.head()"
      ],
      "metadata": {
        "colab": {
          "base_uri": "https://localhost:8080/",
          "height": 337
        },
        "id": "Pt5IqNQviWZT",
        "outputId": "9131952a-a73e-469e-8863-60496c58eabb"
      },
      "execution_count": 2,
      "outputs": [
        {
          "output_type": "execute_result",
          "data": {
            "text/plain": [
              "                                              DiaChi   TinhTrangBDS DienTich  \\\n",
              "0  Đường Nguyễn Văn Quỳ, Phường Phú Thuận, Quận 7...    Đã bàn giao    62 m²   \n",
              "1  Đường Nguyễn Văn Linh, Phường Tân Thuận Tây, Q...    Đã bàn giao    95 m²   \n",
              "2  Đường Võ Văn Kiệt, Phường An Lạc, Quận Bình Tâ...  Chưa bàn giao    75 m²   \n",
              "3  108, Đường Hồng Hà, Phường 2, Quận Tân Bình, T...    Đã bàn giao    70 m²   \n",
              "4  Đường Hậu Giang, Phường 11, Quận 6, Tp Hồ Chí ...    Đã bàn giao    83 m²   \n",
              "\n",
              "            Gia/m2 Phongngu TenPhanKhu  SoTang PhongTam      Loai  \\\n",
              "0   32,26 triệu/m²  2 phòng        NaN     NaN  2 phòng  Chung cư   \n",
              "1   55,79 triệu/m²  3 phòng        NaN     NaN  2 phòng  Chung cư   \n",
              "2    34,4 triệu/m²  2 phòng          2     5.0  2 phòng  Chung cư   \n",
              "3   57,14 triệu/m²  1 phòng          A     7.0  1 phòng  Chung cư   \n",
              "4   35,54 triệu/m²  2 phòng        NaN     NaN  2 phòng  Chung cư   \n",
              "\n",
              "         GiayTo     MaCanHo  TinhTrangNoiThat HuongCuaChinh HuongBanCong  \\\n",
              "0      Đã có sổ         NaN               NaN           NaN          NaN   \n",
              "1   Đang chờ sổ         NaN  Nội thất cao cấp           NaN          NaN   \n",
              "2  Giấy tờ khác          17               NaN      Đông Nam     Đông Nam   \n",
              "3   Đang chờ sổ  BPA - 0712  Nội thất cao cấp      Đông Nam      Tây Bắc   \n",
              "4      Đã có sổ         NaN  Nội thất cao cấp       Tây Bắc          NaN   \n",
              "\n",
              "   DacDiem              Gia  \n",
              "0      NaN     2 tỷ- 62 m2đ  \n",
              "1  Căn góc   5,3 tỷ- 95 m2đ  \n",
              "2      NaN  2,58 tỷ- 75 m2đ  \n",
              "3      NaN     4 tỷ- 70 m2đ  \n",
              "4      NaN  2,95 tỷ- 83 m2đ  "
            ],
            "text/html": [
              "\n",
              "  <div id=\"df-b920ea01-0044-4ef6-800e-e9e4b97cc0aa\">\n",
              "    <div class=\"colab-df-container\">\n",
              "      <div>\n",
              "<style scoped>\n",
              "    .dataframe tbody tr th:only-of-type {\n",
              "        vertical-align: middle;\n",
              "    }\n",
              "\n",
              "    .dataframe tbody tr th {\n",
              "        vertical-align: top;\n",
              "    }\n",
              "\n",
              "    .dataframe thead th {\n",
              "        text-align: right;\n",
              "    }\n",
              "</style>\n",
              "<table border=\"1\" class=\"dataframe\">\n",
              "  <thead>\n",
              "    <tr style=\"text-align: right;\">\n",
              "      <th></th>\n",
              "      <th>DiaChi</th>\n",
              "      <th>TinhTrangBDS</th>\n",
              "      <th>DienTich</th>\n",
              "      <th>Gia/m2</th>\n",
              "      <th>Phongngu</th>\n",
              "      <th>TenPhanKhu</th>\n",
              "      <th>SoTang</th>\n",
              "      <th>PhongTam</th>\n",
              "      <th>Loai</th>\n",
              "      <th>GiayTo</th>\n",
              "      <th>MaCanHo</th>\n",
              "      <th>TinhTrangNoiThat</th>\n",
              "      <th>HuongCuaChinh</th>\n",
              "      <th>HuongBanCong</th>\n",
              "      <th>DacDiem</th>\n",
              "      <th>Gia</th>\n",
              "    </tr>\n",
              "  </thead>\n",
              "  <tbody>\n",
              "    <tr>\n",
              "      <th>0</th>\n",
              "      <td>Đường Nguyễn Văn Quỳ, Phường Phú Thuận, Quận 7...</td>\n",
              "      <td>Đã bàn giao</td>\n",
              "      <td>62 m²</td>\n",
              "      <td>32,26 triệu/m²</td>\n",
              "      <td>2 phòng</td>\n",
              "      <td>NaN</td>\n",
              "      <td>NaN</td>\n",
              "      <td>2 phòng</td>\n",
              "      <td>Chung cư</td>\n",
              "      <td>Đã có sổ</td>\n",
              "      <td>NaN</td>\n",
              "      <td>NaN</td>\n",
              "      <td>NaN</td>\n",
              "      <td>NaN</td>\n",
              "      <td>NaN</td>\n",
              "      <td>2 tỷ- 62 m2đ</td>\n",
              "    </tr>\n",
              "    <tr>\n",
              "      <th>1</th>\n",
              "      <td>Đường Nguyễn Văn Linh, Phường Tân Thuận Tây, Q...</td>\n",
              "      <td>Đã bàn giao</td>\n",
              "      <td>95 m²</td>\n",
              "      <td>55,79 triệu/m²</td>\n",
              "      <td>3 phòng</td>\n",
              "      <td>NaN</td>\n",
              "      <td>NaN</td>\n",
              "      <td>2 phòng</td>\n",
              "      <td>Chung cư</td>\n",
              "      <td>Đang chờ sổ</td>\n",
              "      <td>NaN</td>\n",
              "      <td>Nội thất cao cấp</td>\n",
              "      <td>NaN</td>\n",
              "      <td>NaN</td>\n",
              "      <td>Căn góc</td>\n",
              "      <td>5,3 tỷ- 95 m2đ</td>\n",
              "    </tr>\n",
              "    <tr>\n",
              "      <th>2</th>\n",
              "      <td>Đường Võ Văn Kiệt, Phường An Lạc, Quận Bình Tâ...</td>\n",
              "      <td>Chưa bàn giao</td>\n",
              "      <td>75 m²</td>\n",
              "      <td>34,4 triệu/m²</td>\n",
              "      <td>2 phòng</td>\n",
              "      <td>2</td>\n",
              "      <td>5.0</td>\n",
              "      <td>2 phòng</td>\n",
              "      <td>Chung cư</td>\n",
              "      <td>Giấy tờ khác</td>\n",
              "      <td>17</td>\n",
              "      <td>NaN</td>\n",
              "      <td>Đông Nam</td>\n",
              "      <td>Đông Nam</td>\n",
              "      <td>NaN</td>\n",
              "      <td>2,58 tỷ- 75 m2đ</td>\n",
              "    </tr>\n",
              "    <tr>\n",
              "      <th>3</th>\n",
              "      <td>108, Đường Hồng Hà, Phường 2, Quận Tân Bình, T...</td>\n",
              "      <td>Đã bàn giao</td>\n",
              "      <td>70 m²</td>\n",
              "      <td>57,14 triệu/m²</td>\n",
              "      <td>1 phòng</td>\n",
              "      <td>A</td>\n",
              "      <td>7.0</td>\n",
              "      <td>1 phòng</td>\n",
              "      <td>Chung cư</td>\n",
              "      <td>Đang chờ sổ</td>\n",
              "      <td>BPA - 0712</td>\n",
              "      <td>Nội thất cao cấp</td>\n",
              "      <td>Đông Nam</td>\n",
              "      <td>Tây Bắc</td>\n",
              "      <td>NaN</td>\n",
              "      <td>4 tỷ- 70 m2đ</td>\n",
              "    </tr>\n",
              "    <tr>\n",
              "      <th>4</th>\n",
              "      <td>Đường Hậu Giang, Phường 11, Quận 6, Tp Hồ Chí ...</td>\n",
              "      <td>Đã bàn giao</td>\n",
              "      <td>83 m²</td>\n",
              "      <td>35,54 triệu/m²</td>\n",
              "      <td>2 phòng</td>\n",
              "      <td>NaN</td>\n",
              "      <td>NaN</td>\n",
              "      <td>2 phòng</td>\n",
              "      <td>Chung cư</td>\n",
              "      <td>Đã có sổ</td>\n",
              "      <td>NaN</td>\n",
              "      <td>Nội thất cao cấp</td>\n",
              "      <td>Tây Bắc</td>\n",
              "      <td>NaN</td>\n",
              "      <td>NaN</td>\n",
              "      <td>2,95 tỷ- 83 m2đ</td>\n",
              "    </tr>\n",
              "  </tbody>\n",
              "</table>\n",
              "</div>\n",
              "      <button class=\"colab-df-convert\" onclick=\"convertToInteractive('df-b920ea01-0044-4ef6-800e-e9e4b97cc0aa')\"\n",
              "              title=\"Convert this dataframe to an interactive table.\"\n",
              "              style=\"display:none;\">\n",
              "        \n",
              "  <svg xmlns=\"http://www.w3.org/2000/svg\" height=\"24px\"viewBox=\"0 0 24 24\"\n",
              "       width=\"24px\">\n",
              "    <path d=\"M0 0h24v24H0V0z\" fill=\"none\"/>\n",
              "    <path d=\"M18.56 5.44l.94 2.06.94-2.06 2.06-.94-2.06-.94-.94-2.06-.94 2.06-2.06.94zm-11 1L8.5 8.5l.94-2.06 2.06-.94-2.06-.94L8.5 2.5l-.94 2.06-2.06.94zm10 10l.94 2.06.94-2.06 2.06-.94-2.06-.94-.94-2.06-.94 2.06-2.06.94z\"/><path d=\"M17.41 7.96l-1.37-1.37c-.4-.4-.92-.59-1.43-.59-.52 0-1.04.2-1.43.59L10.3 9.45l-7.72 7.72c-.78.78-.78 2.05 0 2.83L4 21.41c.39.39.9.59 1.41.59.51 0 1.02-.2 1.41-.59l7.78-7.78 2.81-2.81c.8-.78.8-2.07 0-2.86zM5.41 20L4 18.59l7.72-7.72 1.47 1.35L5.41 20z\"/>\n",
              "  </svg>\n",
              "      </button>\n",
              "      \n",
              "  <style>\n",
              "    .colab-df-container {\n",
              "      display:flex;\n",
              "      flex-wrap:wrap;\n",
              "      gap: 12px;\n",
              "    }\n",
              "\n",
              "    .colab-df-convert {\n",
              "      background-color: #E8F0FE;\n",
              "      border: none;\n",
              "      border-radius: 50%;\n",
              "      cursor: pointer;\n",
              "      display: none;\n",
              "      fill: #1967D2;\n",
              "      height: 32px;\n",
              "      padding: 0 0 0 0;\n",
              "      width: 32px;\n",
              "    }\n",
              "\n",
              "    .colab-df-convert:hover {\n",
              "      background-color: #E2EBFA;\n",
              "      box-shadow: 0px 1px 2px rgba(60, 64, 67, 0.3), 0px 1px 3px 1px rgba(60, 64, 67, 0.15);\n",
              "      fill: #174EA6;\n",
              "    }\n",
              "\n",
              "    [theme=dark] .colab-df-convert {\n",
              "      background-color: #3B4455;\n",
              "      fill: #D2E3FC;\n",
              "    }\n",
              "\n",
              "    [theme=dark] .colab-df-convert:hover {\n",
              "      background-color: #434B5C;\n",
              "      box-shadow: 0px 1px 3px 1px rgba(0, 0, 0, 0.15);\n",
              "      filter: drop-shadow(0px 1px 2px rgba(0, 0, 0, 0.3));\n",
              "      fill: #FFFFFF;\n",
              "    }\n",
              "  </style>\n",
              "\n",
              "      <script>\n",
              "        const buttonEl =\n",
              "          document.querySelector('#df-b920ea01-0044-4ef6-800e-e9e4b97cc0aa button.colab-df-convert');\n",
              "        buttonEl.style.display =\n",
              "          google.colab.kernel.accessAllowed ? 'block' : 'none';\n",
              "\n",
              "        async function convertToInteractive(key) {\n",
              "          const element = document.querySelector('#df-b920ea01-0044-4ef6-800e-e9e4b97cc0aa');\n",
              "          const dataTable =\n",
              "            await google.colab.kernel.invokeFunction('convertToInteractive',\n",
              "                                                     [key], {});\n",
              "          if (!dataTable) return;\n",
              "\n",
              "          const docLinkHtml = 'Like what you see? Visit the ' +\n",
              "            '<a target=\"_blank\" href=https://colab.research.google.com/notebooks/data_table.ipynb>data table notebook</a>'\n",
              "            + ' to learn more about interactive tables.';\n",
              "          element.innerHTML = '';\n",
              "          dataTable['output_type'] = 'display_data';\n",
              "          await google.colab.output.renderOutput(dataTable, element);\n",
              "          const docLink = document.createElement('div');\n",
              "          docLink.innerHTML = docLinkHtml;\n",
              "          element.appendChild(docLink);\n",
              "        }\n",
              "      </script>\n",
              "    </div>\n",
              "  </div>\n",
              "  "
            ]
          },
          "metadata": {},
          "execution_count": 2
        }
      ]
    },
    {
      "cell_type": "markdown",
      "source": [
        "II. CLEANING DATA"
      ],
      "metadata": {
        "id": "jr5DZvSKTqmt"
      }
    },
    {
      "cell_type": "code",
      "source": [
        "df.info()"
      ],
      "metadata": {
        "colab": {
          "base_uri": "https://localhost:8080/"
        },
        "id": "4lG1Nrvxivnp",
        "outputId": "df9b5eb3-2cb7-424d-c31a-e0d0bb540c59"
      },
      "execution_count": 3,
      "outputs": [
        {
          "output_type": "stream",
          "name": "stdout",
          "text": [
            "<class 'pandas.core.frame.DataFrame'>\n",
            "RangeIndex: 24949 entries, 0 to 24948\n",
            "Data columns (total 16 columns):\n",
            " #   Column            Non-Null Count  Dtype  \n",
            "---  ------            --------------  -----  \n",
            " 0   DiaChi            24949 non-null  object \n",
            " 1   TinhTrangBDS      24924 non-null  object \n",
            " 2   DienTich          24917 non-null  object \n",
            " 3   Gia/m2            24916 non-null  object \n",
            " 4   Phongngu          24926 non-null  object \n",
            " 5   TenPhanKhu        7035 non-null   object \n",
            " 6   SoTang            6726 non-null   float64\n",
            " 7   PhongTam          24388 non-null  object \n",
            " 8   Loai              24926 non-null  object \n",
            " 9   GiayTo            18852 non-null  object \n",
            " 10  MaCanHo           3358 non-null   object \n",
            " 11  TinhTrangNoiThat  12790 non-null  object \n",
            " 12  HuongCuaChinh     9370 non-null   object \n",
            " 13  HuongBanCong      8670 non-null   object \n",
            " 14  DacDiem           5601 non-null   object \n",
            " 15  Gia               24949 non-null  object \n",
            "dtypes: float64(1), object(15)\n",
            "memory usage: 3.0+ MB\n"
          ]
        }
      ]
    },
    {
      "cell_type": "markdown",
      "source": [
        "Data contains: 24949 rows, 16 columns"
      ],
      "metadata": {
        "id": "7lJa6RV0XGa5"
      }
    },
    {
      "cell_type": "code",
      "source": [
        "#build function clean data\n",
        "def clean(n):\n",
        "    n = n.split()\n",
        "    if len(n) >3:\n",
        "      return float(n[2]) +1\n",
        "    return n[0]\n",
        "def s(n):\n",
        "  n = n.split()\n",
        "  return n[0]"
      ],
      "metadata": {
        "id": "0EBXD4SsXLOr"
      },
      "execution_count": 4,
      "outputs": []
    },
    {
      "cell_type": "markdown",
      "source": [
        "The column DienTich, Phongngu, PhongTam, Gia, we have no basis to fill them, so I choose to drop the rows that contain the value NaN or the column price is 0.\n",
        "To get the right values ​​for the study, I built 2 functions to generate new columns."
      ],
      "metadata": {
        "id": "bgU_qSYGufGr"
      }
    },
    {
      "cell_type": "code",
      "source": [
        "#select data where Dientich, Phongngu, PhongTam is not NaN, SoTang\n",
        "df_s = df[(df.DienTich.notnull()) & (df.Phongngu.notnull()) & (df.PhongTam.notnull()) & (df.Loai.notnull()) & (df.Gia != 0)]\n",
        "df_s = df_s.reset_index()\n",
        "df_s['DienTich'] = df_s['DienTich'].apply(s)\n",
        "df_s['Phongngu'] = df_s['Phongngu'].apply(clean)\n",
        "df_s['PhongTam'] = df_s['PhongTam'].apply(clean)\n",
        "#Because column gia/m2 <=> dien tich & gia\n",
        "del df_s[\"Gia/m2\"]"
      ],
      "metadata": {
        "id": "dMKa2L-eSu6s"
      },
      "execution_count": 5,
      "outputs": []
    },
    {
      "cell_type": "markdown",
      "source": [
        "We delete column Gia/m2 because it is unnesscersy in this study."
      ],
      "metadata": {
        "id": "Yd3rNHGuYeRz"
      }
    },
    {
      "cell_type": "code",
      "source": [
        "#clean column Price\n",
        "def p(n):\n",
        "  if 'GIÁ TỐT' in n:\n",
        "    return n.split('\\n')[0]\n",
        "  return n.split('-')[0]\n",
        "df_s['Gia'] = df_s['Gia'].apply(p)\n",
        "\n",
        "def cur(n):\n",
        "  if 'tỷ' in n:\n",
        "    return round(float(n.split()[0].replace(',','.'))*1000000000,2)\n",
        "  elif 'triệu' in n:\n",
        "    return round(float(n.split()[0].replace(',','.'))*1000000,2)\n",
        "df_s['Gia'] = df_s['Gia'].apply(cur)\n",
        "df_s = df_s[df_s.Gia.notnull()]"
      ],
      "metadata": {
        "id": "6ib8rkrAjAEj"
      },
      "execution_count": 6,
      "outputs": []
    },
    {
      "cell_type": "markdown",
      "source": [
        "Beacause Gia column has object value, so I decide to split column and nesscersary value to analyze."
      ],
      "metadata": {
        "id": "ISnqNtTvX0Fq"
      }
    },
    {
      "cell_type": "code",
      "source": [
        "#reset index\n",
        "df_s= df_s.reset_index()\n",
        "del df_s['level_0']\n",
        "del df_s['index']"
      ],
      "metadata": {
        "id": "HzXp20nTx10t"
      },
      "execution_count": 7,
      "outputs": []
    },
    {
      "cell_type": "code",
      "source": [
        "#clean column DiaChi\n",
        "df_s['Quan'] = df_s['DiaChi']\n",
        "for i in range(0,df_s.DiaChi.shape[0]):\n",
        "    n = df_s.DiaChi[i].split(',')\n",
        "    df_s['Quan'][i] = n[len(n)-2]\n",
        "for i in df_s['Quan']:\n",
        "    if 'Quận' not in i and 'Huyện' not in i:\n",
        "        df_s = df_s.drop(df_s[df_s['Quan']==i].index)"
      ],
      "metadata": {
        "id": "Tbeuqt0qjJHv"
      },
      "execution_count": 8,
      "outputs": []
    },
    {
      "cell_type": "markdown",
      "source": [
        "\n",
        "In this house price prediction article, I will study the Quan (District) of the county to compare the difference between them. The Quan column will be extracted from the DiaChi column"
      ],
      "metadata": {
        "id": "GsRdubLGyRLi"
      }
    },
    {
      "cell_type": "code",
      "source": [
        "#convert to float type\n",
        "df_s.DienTich = round(df_s.DienTich.astype('float'),3)\n",
        "df_s.Phongngu = df_s.Phongngu.astype('int') \n",
        "df_s.PhongTam = df_s.PhongTam.astype('int') \n",
        "df_s.Gia = df_s.Gia.astype('float') "
      ],
      "metadata": {
        "id": "8N76wJtVjQp5"
      },
      "execution_count": 9,
      "outputs": []
    },
    {
      "cell_type": "markdown",
      "source": [
        "Convert numeric column to float or int to predict"
      ],
      "metadata": {
        "id": "HwxoGNr6YgMz"
      }
    },
    {
      "cell_type": "code",
      "source": [
        "df_s.describe(exclude = 'object')"
      ],
      "metadata": {
        "id": "VMZM3HjmjrMN",
        "colab": {
          "base_uri": "https://localhost:8080/",
          "height": 300
        },
        "outputId": "350b0537-76ad-4255-b2ae-b2fc3217245f"
      },
      "execution_count": 10,
      "outputs": [
        {
          "output_type": "execute_result",
          "data": {
            "text/plain": [
              "             DienTich      Phongngu       SoTang      PhongTam           Gia\n",
              "count    24086.000000  24086.000000  6552.000000  24086.000000  2.408600e+04\n",
              "mean       232.163841      2.052230    11.347222      1.754048  2.870769e+09\n",
              "std       9943.563316      0.746907    15.322589      0.612478  7.898340e+09\n",
              "min          1.000000      1.000000     1.000000      1.000000  1.000000e+06\n",
              "25%         56.000000      2.000000     5.000000      1.000000  1.630000e+09\n",
              "50%         68.000000      2.000000     9.000000      2.000000  2.270000e+09\n",
              "75%         80.000000      2.000000    16.000000      2.000000  3.300000e+09\n",
              "max    1000000.000000     11.000000   720.000000      7.000000  9.800000e+11"
            ],
            "text/html": [
              "\n",
              "  <div id=\"df-98223b21-a136-49db-b653-72f101c95e41\">\n",
              "    <div class=\"colab-df-container\">\n",
              "      <div>\n",
              "<style scoped>\n",
              "    .dataframe tbody tr th:only-of-type {\n",
              "        vertical-align: middle;\n",
              "    }\n",
              "\n",
              "    .dataframe tbody tr th {\n",
              "        vertical-align: top;\n",
              "    }\n",
              "\n",
              "    .dataframe thead th {\n",
              "        text-align: right;\n",
              "    }\n",
              "</style>\n",
              "<table border=\"1\" class=\"dataframe\">\n",
              "  <thead>\n",
              "    <tr style=\"text-align: right;\">\n",
              "      <th></th>\n",
              "      <th>DienTich</th>\n",
              "      <th>Phongngu</th>\n",
              "      <th>SoTang</th>\n",
              "      <th>PhongTam</th>\n",
              "      <th>Gia</th>\n",
              "    </tr>\n",
              "  </thead>\n",
              "  <tbody>\n",
              "    <tr>\n",
              "      <th>count</th>\n",
              "      <td>24086.000000</td>\n",
              "      <td>24086.000000</td>\n",
              "      <td>6552.000000</td>\n",
              "      <td>24086.000000</td>\n",
              "      <td>2.408600e+04</td>\n",
              "    </tr>\n",
              "    <tr>\n",
              "      <th>mean</th>\n",
              "      <td>232.163841</td>\n",
              "      <td>2.052230</td>\n",
              "      <td>11.347222</td>\n",
              "      <td>1.754048</td>\n",
              "      <td>2.870769e+09</td>\n",
              "    </tr>\n",
              "    <tr>\n",
              "      <th>std</th>\n",
              "      <td>9943.563316</td>\n",
              "      <td>0.746907</td>\n",
              "      <td>15.322589</td>\n",
              "      <td>0.612478</td>\n",
              "      <td>7.898340e+09</td>\n",
              "    </tr>\n",
              "    <tr>\n",
              "      <th>min</th>\n",
              "      <td>1.000000</td>\n",
              "      <td>1.000000</td>\n",
              "      <td>1.000000</td>\n",
              "      <td>1.000000</td>\n",
              "      <td>1.000000e+06</td>\n",
              "    </tr>\n",
              "    <tr>\n",
              "      <th>25%</th>\n",
              "      <td>56.000000</td>\n",
              "      <td>2.000000</td>\n",
              "      <td>5.000000</td>\n",
              "      <td>1.000000</td>\n",
              "      <td>1.630000e+09</td>\n",
              "    </tr>\n",
              "    <tr>\n",
              "      <th>50%</th>\n",
              "      <td>68.000000</td>\n",
              "      <td>2.000000</td>\n",
              "      <td>9.000000</td>\n",
              "      <td>2.000000</td>\n",
              "      <td>2.270000e+09</td>\n",
              "    </tr>\n",
              "    <tr>\n",
              "      <th>75%</th>\n",
              "      <td>80.000000</td>\n",
              "      <td>2.000000</td>\n",
              "      <td>16.000000</td>\n",
              "      <td>2.000000</td>\n",
              "      <td>3.300000e+09</td>\n",
              "    </tr>\n",
              "    <tr>\n",
              "      <th>max</th>\n",
              "      <td>1000000.000000</td>\n",
              "      <td>11.000000</td>\n",
              "      <td>720.000000</td>\n",
              "      <td>7.000000</td>\n",
              "      <td>9.800000e+11</td>\n",
              "    </tr>\n",
              "  </tbody>\n",
              "</table>\n",
              "</div>\n",
              "      <button class=\"colab-df-convert\" onclick=\"convertToInteractive('df-98223b21-a136-49db-b653-72f101c95e41')\"\n",
              "              title=\"Convert this dataframe to an interactive table.\"\n",
              "              style=\"display:none;\">\n",
              "        \n",
              "  <svg xmlns=\"http://www.w3.org/2000/svg\" height=\"24px\"viewBox=\"0 0 24 24\"\n",
              "       width=\"24px\">\n",
              "    <path d=\"M0 0h24v24H0V0z\" fill=\"none\"/>\n",
              "    <path d=\"M18.56 5.44l.94 2.06.94-2.06 2.06-.94-2.06-.94-.94-2.06-.94 2.06-2.06.94zm-11 1L8.5 8.5l.94-2.06 2.06-.94-2.06-.94L8.5 2.5l-.94 2.06-2.06.94zm10 10l.94 2.06.94-2.06 2.06-.94-2.06-.94-.94-2.06-.94 2.06-2.06.94z\"/><path d=\"M17.41 7.96l-1.37-1.37c-.4-.4-.92-.59-1.43-.59-.52 0-1.04.2-1.43.59L10.3 9.45l-7.72 7.72c-.78.78-.78 2.05 0 2.83L4 21.41c.39.39.9.59 1.41.59.51 0 1.02-.2 1.41-.59l7.78-7.78 2.81-2.81c.8-.78.8-2.07 0-2.86zM5.41 20L4 18.59l7.72-7.72 1.47 1.35L5.41 20z\"/>\n",
              "  </svg>\n",
              "      </button>\n",
              "      \n",
              "  <style>\n",
              "    .colab-df-container {\n",
              "      display:flex;\n",
              "      flex-wrap:wrap;\n",
              "      gap: 12px;\n",
              "    }\n",
              "\n",
              "    .colab-df-convert {\n",
              "      background-color: #E8F0FE;\n",
              "      border: none;\n",
              "      border-radius: 50%;\n",
              "      cursor: pointer;\n",
              "      display: none;\n",
              "      fill: #1967D2;\n",
              "      height: 32px;\n",
              "      padding: 0 0 0 0;\n",
              "      width: 32px;\n",
              "    }\n",
              "\n",
              "    .colab-df-convert:hover {\n",
              "      background-color: #E2EBFA;\n",
              "      box-shadow: 0px 1px 2px rgba(60, 64, 67, 0.3), 0px 1px 3px 1px rgba(60, 64, 67, 0.15);\n",
              "      fill: #174EA6;\n",
              "    }\n",
              "\n",
              "    [theme=dark] .colab-df-convert {\n",
              "      background-color: #3B4455;\n",
              "      fill: #D2E3FC;\n",
              "    }\n",
              "\n",
              "    [theme=dark] .colab-df-convert:hover {\n",
              "      background-color: #434B5C;\n",
              "      box-shadow: 0px 1px 3px 1px rgba(0, 0, 0, 0.15);\n",
              "      filter: drop-shadow(0px 1px 2px rgba(0, 0, 0, 0.3));\n",
              "      fill: #FFFFFF;\n",
              "    }\n",
              "  </style>\n",
              "\n",
              "      <script>\n",
              "        const buttonEl =\n",
              "          document.querySelector('#df-98223b21-a136-49db-b653-72f101c95e41 button.colab-df-convert');\n",
              "        buttonEl.style.display =\n",
              "          google.colab.kernel.accessAllowed ? 'block' : 'none';\n",
              "\n",
              "        async function convertToInteractive(key) {\n",
              "          const element = document.querySelector('#df-98223b21-a136-49db-b653-72f101c95e41');\n",
              "          const dataTable =\n",
              "            await google.colab.kernel.invokeFunction('convertToInteractive',\n",
              "                                                     [key], {});\n",
              "          if (!dataTable) return;\n",
              "\n",
              "          const docLinkHtml = 'Like what you see? Visit the ' +\n",
              "            '<a target=\"_blank\" href=https://colab.research.google.com/notebooks/data_table.ipynb>data table notebook</a>'\n",
              "            + ' to learn more about interactive tables.';\n",
              "          element.innerHTML = '';\n",
              "          dataTable['output_type'] = 'display_data';\n",
              "          await google.colab.output.renderOutput(dataTable, element);\n",
              "          const docLink = document.createElement('div');\n",
              "          docLink.innerHTML = docLinkHtml;\n",
              "          element.appendChild(docLink);\n",
              "        }\n",
              "      </script>\n",
              "    </div>\n",
              "  </div>\n",
              "  "
            ]
          },
          "metadata": {},
          "execution_count": 10
        }
      ]
    },
    {
      "cell_type": "markdown",
      "source": [
        "The max value of DienTich, SoTang are unreasonable so it maybe is noise and I just filter real value to predict."
      ],
      "metadata": {
        "id": "5feAUhMc_ojJ"
      }
    },
    {
      "cell_type": "code",
      "source": [
        "#deal with outlier (if use method IQR, we drop many colum, so I decide to processing data base on highest SoTang in Vietnam(81), Highest DienTich (50.000m2))\n",
        "#In this study, I choose price house <10 tỷ to predict because houses's price is larger 100 tỷ is small and it affect RSME and MAE when build model. Therefore, I decide to predict house's price smaller 100 tỷ.\n",
        "dt  = df_s[(df_s.DienTich > 500)|(df_s.SoTang >81)|(df_s.Gia >100000000000)]\n",
        "df_s = df_s.drop(index = dt.index)"
      ],
      "metadata": {
        "id": "8mz42vc4jUUp"
      },
      "execution_count": 11,
      "outputs": []
    },
    {
      "cell_type": "markdown",
      "source": [
        "When we look at the dataset, we see that the homes costing more than 100 billion are very few, so in order not to make a big mistake in the analysis I decided to only predict the houses under 100 billion. Besides, homes over 100 billion are usually penthouses and the goal of this study is to help home sellers refer and that's just a rare number."
      ],
      "metadata": {
        "id": "DzizB8YfYhc6"
      }
    },
    {
      "cell_type": "markdown",
      "source": [
        "III. EDA DATA"
      ],
      "metadata": {
        "id": "HKe2qOBgu3aG"
      }
    },
    {
      "cell_type": "code",
      "source": [
        "#eda numeric variables and target variable\n",
        "def scatter(x,fig):\n",
        "    plt.subplot(5,2,fig)\n",
        "    plt.scatter(df_s[x],df_s['Gia'])\n",
        "    plt.title(x + ' và Gia')\n",
        "    plt.ylabel('Gia')\n",
        "    plt.xlabel(x)\n",
        "plt.figure(figsize=(10,12))\n",
        "\n",
        "scatter('DienTich', 1)\n",
        "scatter('Phongngu', 2)\n",
        "scatter('SoTang', 3)\n",
        "scatter('PhongTam', 4)\n",
        "\n",
        "plt.tight_layout()"
      ],
      "metadata": {
        "id": "cCdtRJGYjaRJ",
        "colab": {
          "base_uri": "https://localhost:8080/",
          "height": 376
        },
        "outputId": "b19b2b88-d675-4123-e71a-d35b94279a08"
      },
      "execution_count": 12,
      "outputs": [
        {
          "output_type": "display_data",
          "data": {
            "text/plain": [
              "<Figure size 720x864 with 4 Axes>"
            ],
            "image/png": "[encoded data removed]"
          },
          "metadata": {
            "needs_background": "light"
          }
        }
      ]
    },
    {
      "cell_type": "markdown",
      "source": [
        "With DienTich and SoTang column, there are differences when the price goes up.\n",
        "\n",
        "With Phongngu and PhongTam column, there are no difference when the price goes up."
      ],
      "metadata": {
        "id": "a7UUX-Ur1JhR"
      }
    },
    {
      "cell_type": "code",
      "source": [
        "#corr numeric variable and target variable\n",
        "df_corr = df_s[['DienTich', 'PhongTam', 'Phongngu', 'SoTang', 'Gia']]\n",
        "sns.heatmap(df_corr.corr())\n",
        "plt.plot()"
      ],
      "metadata": {
        "colab": {
          "base_uri": "https://localhost:8080/",
          "height": 337
        },
        "id": "p-d5xj1rEqH3",
        "outputId": "adccee0e-0a8e-47ff-c53f-65297ba145c5"
      },
      "execution_count": 13,
      "outputs": [
        {
          "output_type": "execute_result",
          "data": {
            "text/plain": [
              "[]"
            ]
          },
          "metadata": {},
          "execution_count": 13
        },
        {
          "output_type": "display_data",
          "data": {
            "text/plain": [
              "<Figure size 432x288 with 2 Axes>"
            ],
            "image/png": "[encoded data removed]"
          },
          "metadata": {
            "needs_background": "light"
          }
        }
      ]
    },
    {
      "cell_type": "markdown",
      "source": [
        "Dientich & Gia have high correlation (0.6~0.8).\n",
        "\n",
        "PhongTam, Phongngu & gia have correlation.\n",
        "\n",
        "SoTang & Gia maybe uncorrelation."
      ],
      "metadata": {
        "id": "B0BAigkCEty3"
      }
    },
    {
      "cell_type": "code",
      "source": [
        "# When unit is VN, it is difficult to read and analyze so I decide to convert into USD\n",
        "df_s['USD'] = round(df_s['Gia']/24000,0)\n",
        "data = df_s[['Quan','TinhTrangBDS','TenPhanKhu','Loai','GiayTo','MaCanHo','TinhTrangNoiThat','HuongCuaChinh','HuongBanCong'\n",
        "                ,'DacDiem','Gia']]\n",
        "bins = [40,40000,400000,40000000]\n",
        "\n",
        "\n",
        "#function to analyze categorical variables\n",
        "def cate(col):\n",
        "    temp = df_s.copy()\n",
        "    table = temp.groupby([col])['Gia'].mean()\n",
        "    temp = temp.merge(table.reset_index(), how='left',on=col)\n",
        "    cars_bin=['low','Medium','High']\n",
        "    df_s['range'] = pd.cut(temp['USD'],bins, right=False,labels=cars_bin)\n",
        "    plt.rcParams['figure.figsize'] = (18, 8)\n",
        "    df = pd.DataFrame(df_s.groupby([col,'range'])['USD'].mean().unstack(fill_value=0))\n",
        "    df.plot.bar()\n",
        "    plt.title('House vs Price')\n",
        "    plt.show()"
      ],
      "metadata": {
        "id": "mGioa2eRu72E"
      },
      "execution_count": 14,
      "outputs": []
    },
    {
      "cell_type": "markdown",
      "source": [
        "To easily analyze price house, I decide to convert VND into USD"
      ],
      "metadata": {
        "id": "zHn76cqyfO6H"
      }
    },
    {
      "cell_type": "code",
      "source": [
        "cate('Quan')"
      ],
      "metadata": {
        "id": "UxjtiHD6jmOE",
        "colab": {
          "base_uri": "https://localhost:8080/",
          "height": 614
        },
        "outputId": "07140a9e-feb5-4f63-d62f-763d81603822"
      },
      "execution_count": 15,
      "outputs": [
        {
          "output_type": "display_data",
          "data": {
            "text/plain": [
              "<Figure size 1296x576 with 1 Axes>"
            ],
            "image/png": "[encoded data removed]"
          },
          "metadata": {
            "needs_background": "light"
          }
        }
      ]
    },
    {
      "cell_type": "markdown",
      "source": [
        "Quan5 has highest price and most houses is sold.\n",
        "Huyện Hóc Môn has lowest price."
      ],
      "metadata": {
        "id": "7q70Bwdm1PTK"
      }
    },
    {
      "cell_type": "code",
      "source": [
        "cate('TinhTrangBDS')"
      ],
      "metadata": {
        "id": "QrYlQTFpjosB",
        "colab": {
          "base_uri": "https://localhost:8080/",
          "height": 588
        },
        "outputId": "259e96b3-a430-48f8-e171-26d3d433ae82"
      },
      "execution_count": 16,
      "outputs": [
        {
          "output_type": "display_data",
          "data": {
            "text/plain": [
              "<Figure size 1296x576 with 1 Axes>"
            ],
            "image/png": "[encoded data removed]"
          },
          "metadata": {
            "needs_background": "light"
          }
        }
      ]
    },
    {
      "cell_type": "markdown",
      "source": [
        "House Đã bàn Gia has higher price than Chưa bàn giao."
      ],
      "metadata": {
        "id": "og08gf6k1RYt"
      }
    },
    {
      "cell_type": "code",
      "source": [
        "cate('TinhTrangNoiThat')"
      ],
      "metadata": {
        "id": "Lu7pnTyfjqvW",
        "colab": {
          "base_uri": "https://localhost:8080/",
          "height": 610
        },
        "outputId": "5c848b6e-ec09-4da7-8182-a308c7810a1e"
      },
      "execution_count": 17,
      "outputs": [
        {
          "output_type": "display_data",
          "data": {
            "text/plain": [
              "<Figure size 1296x576 with 1 Axes>"
            ],
            "image/png": "[encoded data removed]"
          },
          "metadata": {
            "needs_background": "light"
          }
        }
      ]
    },
    {
      "cell_type": "markdown",
      "source": [
        "Bàn giao thô houses usually have low price.\n",
        "\n",
        "Nội thấp cao cấp houses have highest price."
      ],
      "metadata": {
        "id": "iSfqL2sZ1SAc"
      }
    },
    {
      "cell_type": "code",
      "source": [
        "cate('Loai')"
      ],
      "metadata": {
        "id": "sic69mO-juof",
        "colab": {
          "base_uri": "https://localhost:8080/",
          "height": 625
        },
        "outputId": "1ee6ef50-7ef0-4635-a186-82eeb2aac4e9"
      },
      "execution_count": 18,
      "outputs": [
        {
          "output_type": "display_data",
          "data": {
            "text/plain": [
              "<Figure size 1296x576 with 1 Axes>"
            ],
            "image/png": "[encoded data removed]"
          },
          "metadata": {
            "needs_background": "light"
          }
        }
      ]
    },
    {
      "cell_type": "markdown",
      "source": [
        "Tập thể, cư xá houses have lowest price & penthouse have highest price."
      ],
      "metadata": {
        "id": "rhqOr_eDudC-"
      }
    },
    {
      "cell_type": "code",
      "source": [
        "#remaining variables and Gia\n",
        "test = df_s[df_s.USD <df_s.USD.quantile(0.8)]\n",
        "plt.rcParams['figure.figsize'] = (12, 6)\n",
        "\n",
        "print(test.HuongBanCong.value_counts())\n",
        "sns.boxplot(x=test.HuongBanCong, y=test.USD)\n",
        "plt.title('Huong ban cong vs Gia')\n",
        "plt.show()\n",
        "\n",
        "print(test.HuongCuaChinh.value_counts())\n",
        "sns.boxplot(x=test.HuongCuaChinh, y=test.USD)\n",
        "plt.title('Huong cua chinh vs Gia')\n",
        "plt.show()\n",
        "\n",
        "print(test.GiayTo.value_counts())\n",
        "sns.boxplot(x=test.GiayTo, y=test.USD)\n",
        "plt.title('GiayTo vs Gia')\n",
        "plt.show()"
      ],
      "metadata": {
        "id": "k6pC4Wx5j54_",
        "colab": {
          "base_uri": "https://localhost:8080/",
          "height": 1000
        },
        "outputId": "71e947a7-0566-41c4-967e-3c39b03dc09c"
      },
      "execution_count": 19,
      "outputs": [
        {
          "output_type": "stream",
          "name": "stdout",
          "text": [
            "Đông Nam    1639\n",
            "Đông         877\n",
            "Tây Nam      790\n",
            "Đông Bắc     732\n",
            "Bắc          698\n",
            "Tây          647\n",
            "Tây Bắc      624\n",
            "Nam          562\n",
            "Name: HuongBanCong, dtype: int64\n"
          ]
        },
        {
          "output_type": "display_data",
          "data": {
            "text/plain": [
              "<Figure size 864x432 with 1 Axes>"
            ],
            "image/png": "[encoded data removed]"
          },
          "metadata": {
            "needs_background": "light"
          }
        },
        {
          "output_type": "stream",
          "name": "stdout",
          "text": [
            "Đông Nam    1403\n",
            "Tây Bắc     1270\n",
            "Nam         1001\n",
            "Đông Bắc     907\n",
            "Đông         789\n",
            "Tây Nam      630\n",
            "Tây          488\n",
            "Bắc          428\n",
            "Name: HuongCuaChinh, dtype: int64\n"
          ]
        },
        {
          "output_type": "display_data",
          "data": {
            "text/plain": [
              "<Figure size 864x432 with 1 Axes>"
            ],
            "image/png": "[encoded data removed]"
          },
          "metadata": {
            "needs_background": "light"
          }
        },
        {
          "output_type": "stream",
          "name": "stdout",
          "text": [
            "Đã có sổ        6817\n",
            "Đang chờ sổ     6009\n",
            "Giấy tờ khác    1545\n",
            "Name: GiayTo, dtype: int64\n"
          ]
        },
        {
          "output_type": "display_data",
          "data": {
            "text/plain": [
              "<Figure size 864x432 with 1 Axes>"
            ],
            "image/png": "[encoded data removed]"
          },
          "metadata": {
            "needs_background": "light"
          }
        }
      ]
    },
    {
      "cell_type": "markdown",
      "source": [
        "In general the price is not affected by the GiayTo and the HuongBanCong. However, the HuongCuaChinh is HuongDong and the average price is lower than other prices."
      ],
      "metadata": {
        "id": "xjpFdQMA1VBK"
      }
    },
    {
      "cell_type": "markdown",
      "source": [
        "IV. BUILD MODEL"
      ],
      "metadata": {
        "id": "D1uLb3ICFMFX"
      }
    },
    {
      "cell_type": "code",
      "source": [
        "#drop column DiaChi & columns which is NaN > 70%\n",
        "df_dr = df_s.dropna(axis=1,thresh=int(df.shape[0]*0.7))\n",
        "df_dr = df_dr.dropna(how='any')\n",
        "df_dr = df_dr.iloc[:,1:]\n",
        "#get dummy variables data\n",
        "df_dummies = pd.get_dummies(df_dr.iloc[1:,:], drop_first=True)\n",
        "df_dummies = df_dummies.astype(float)\n",
        "cols = df_dummies.columns.values\n",
        "data_preprocessed = df_dummies[cols]"
      ],
      "metadata": {
        "id": "I-EHWzwkztSa"
      },
      "execution_count": 20,
      "outputs": []
    },
    {
      "cell_type": "markdown",
      "source": [
        "To build the model, I decided to drop all columns with more than 70% of the value being NaN and column DiaChi.\n",
        "\n",
        "Beside, I get dummies for some columns which have category value."
      ],
      "metadata": {
        "id": "uAppSDzv1atw"
      }
    },
    {
      "cell_type": "code",
      "source": [
        "from sklearn.preprocessing import StandardScaler\n",
        "scaler = StandardScaler()\n",
        "scaler.fit(data_preprocessed)"
      ],
      "metadata": {
        "colab": {
          "base_uri": "https://localhost:8080/"
        },
        "id": "msZskJ4fp4-E",
        "outputId": "f0978b24-60d7-4c95-a8d4-32c938230d4c"
      },
      "execution_count": 21,
      "outputs": [
        {
          "output_type": "execute_result",
          "data": {
            "text/plain": [
              "StandardScaler()"
            ]
          },
          "metadata": {},
          "execution_count": 21
        }
      ]
    },
    {
      "cell_type": "markdown",
      "source": [
        "The idea behind StandardScaler is that it will transform data such that its distribution will have a mean value 0 and standard deviation of 1."
      ],
      "metadata": {
        "id": "xENZtKSL1cz6"
      }
    },
    {
      "cell_type": "code",
      "source": [
        "#create a Ml model for regresor.\n",
        "from sklearn.linear_model import LinearRegression\n",
        "from sklearn.tree import DecisionTreeRegressor\n",
        "from sklearn.ensemble import RandomForestRegressor\n",
        "from sklearn.metrics import mean_squared_error, r2_score, mean_absolute_error\n",
        "from sklearn.model_selection import train_test_split\n",
        "from sklearn import metrics"
      ],
      "metadata": {
        "id": "DxEkWJn81EYv"
      },
      "execution_count": 22,
      "outputs": []
    },
    {
      "cell_type": "code",
      "source": [
        "X = data_preprocessed[['DienTich', 'Phongngu', 'PhongTam',\n",
        "       'TinhTrangBDS_Đã bàn giao', 'Loai_ Tập thể, cư xá', 'Loai_Chung cư',\n",
        "       'Loai_Duplex', 'Loai_Officetel', 'Loai_Penthouse', 'GiayTo_Đang chờ sổ',\n",
        "       'GiayTo_Đã có sổ', 'Quan_ Huyện Củ Chi', 'Quan_ Huyện Hóc Môn',\n",
        "       'Quan_ Huyện Nhà Bè', 'Quan_ Quận 1', 'Quan_ Quận 10', 'Quan_ Quận 11',\n",
        "       'Quan_ Quận 12', 'Quan_ Quận 2', 'Quan_ Quận 3', 'Quan_ Quận 4',\n",
        "       'Quan_ Quận 5', 'Quan_ Quận 6', 'Quan_ Quận 7', 'Quan_ Quận 8',\n",
        "       'Quan_ Quận 9', 'Quan_ Quận Bình Thạnh', 'Quan_ Quận Bình Tân',\n",
        "       'Quan_ Quận Gò Vấp', 'Quan_ Quận Phú Nhuận', 'Quan_ Quận Thủ Đức',\n",
        "       'Quan_ Quận Tân Bình', 'Quan_ Quận Tân Phú']]\n",
        "y = data_preprocessed['Gia']"
      ],
      "metadata": {
        "id": "8AB7dPDb1U22"
      },
      "execution_count": 23,
      "outputs": []
    },
    {
      "cell_type": "markdown",
      "source": [
        "In this study, I build Linear, Decision, Random Regression to predict price house."
      ],
      "metadata": {
        "id": "zE5qGBf0YlXG"
      }
    },
    {
      "cell_type": "code",
      "source": [
        "#split data\n",
        "X_train, X_test, y_train, y_test = train_test_split(X, y, test_size = 0.2, random_state = 0)"
      ],
      "metadata": {
        "id": "nCnlEosE4kkE"
      },
      "execution_count": 24,
      "outputs": []
    },
    {
      "cell_type": "code",
      "source": [
        "#build model linear\n",
        "regressor = LinearRegression()\n",
        "regressor.fit(X_train, y_train)\n",
        "y_pred = regressor.predict(X_test)\n",
        "\n",
        "# Evaluating the Algorithm\n",
        "print('Mean Absolute Error:', metrics.mean_absolute_error(y_test, y_pred))  \n",
        "print('Mean Squared Error:', metrics.mean_squared_error(y_test, y_pred))  \n",
        "print('Root Mean Squared Error:', np.sqrt(metrics.mean_squared_error(y_test, y_pred)))"
      ],
      "metadata": {
        "colab": {
          "base_uri": "https://localhost:8080/"
        },
        "id": "8Twwqjnk8eot",
        "outputId": "10ca0594-ae59-4bd6-ec43-b9f777aa1ac9"
      },
      "execution_count": 25,
      "outputs": [
        {
          "output_type": "stream",
          "name": "stdout",
          "text": [
            "Mean Absolute Error: 863201531.6319046\n",
            "Mean Squared Error: 3.236356394135806e+18\n",
            "Root Mean Squared Error: 1798987602.5520036\n"
          ]
        }
      ]
    },
    {
      "cell_type": "code",
      "source": [
        "#build model decisiontree\n",
        "regressor = DecisionTreeRegressor(random_state = 0)\n",
        "regressor.fit(X, y)\n",
        "y_pred = regressor.predict(X_test)\n",
        "\n",
        "# Evaluating the Algorithm\n",
        "print('Mean Absolute Error:', metrics.mean_absolute_error(y_test, y_pred))  \n",
        "print('Mean Squared Error:', metrics.mean_squared_error(y_test, y_pred))  \n",
        "print('Root Mean Squared Error:', np.sqrt(metrics.mean_squared_error(y_test, y_pred)))\n",
        "print('R-squared:', )"
      ],
      "metadata": {
        "colab": {
          "base_uri": "https://localhost:8080/"
        },
        "id": "KFdiaJjI5B0_",
        "outputId": "30d61536-735e-434a-8e7b-e41a4fa32483"
      },
      "execution_count": 26,
      "outputs": [
        {
          "output_type": "stream",
          "name": "stdout",
          "text": [
            "Mean Absolute Error: 210020923.2588204\n",
            "Mean Squared Error: 4.825980355956848e+17\n",
            "Root Mean Squared Error: 694692763.4542372\n",
            "R-squared:\n"
          ]
        }
      ]
    },
    {
      "cell_type": "code",
      "source": [
        "#build model random forest\n",
        "regressor = RandomForestRegressor(n_estimators = 10, random_state = 0)\n",
        "regressor.fit(X, y)\n",
        "y_pred = regressor.predict(X_test)\n",
        "\n",
        "# Evaluating the Algorithm\n",
        "print('Mean Absolute Error:', metrics.mean_absolute_error(y_test, y_pred))  \n",
        "print('Mean Squared Error:', metrics.mean_squared_error(y_test, y_pred))  \n",
        "print('Root Mean Squared Error:', np.sqrt(metrics.mean_squared_error(y_test, y_pred)))"
      ],
      "metadata": {
        "colab": {
          "base_uri": "https://localhost:8080/"
        },
        "id": "0QGnMqpT5Hv2",
        "outputId": "7b06f649-69be-4962-9078-deb4a94e6071"
      },
      "execution_count": 27,
      "outputs": [
        {
          "output_type": "stream",
          "name": "stdout",
          "text": [
            "Mean Absolute Error: 323022776.1834989\n",
            "Mean Squared Error: 8.094195435150674e+17\n",
            "Root Mean Squared Error: 899677466.3817402\n"
          ]
        }
      ]
    },
    {
      "cell_type": "markdown",
      "source": [
        "The best model to predict is Decision Tree Regression (base on RMSE)"
      ],
      "metadata": {
        "id": "i3TpjLExvBbg"
      }
    }
  ]
}